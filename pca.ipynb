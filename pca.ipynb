{
  "nbformat": 4,
  "nbformat_minor": 0,
  "metadata": {
    "colab": {
      "name": "pca.ipynb",
      "version": "0.3.2",
      "provenance": [],
      "include_colab_link": true
    },
    "kernelspec": {
      "name": "python3",
      "display_name": "Python 3"
    }
  },
  "cells": [
    {
      "cell_type": "markdown",
      "metadata": {
        "id": "view-in-github",
        "colab_type": "text"
      },
      "source": [
        "<a href=\"https://colab.research.google.com/github/annsandra98/Data-Analytics/blob/master/pca.ipynb\" target=\"_parent\"><img src=\"https://colab.research.google.com/assets/colab-badge.svg\" alt=\"Open In Colab\"/></a>"
      ]
    },
    {
      "cell_type": "code",
      "metadata": {
        "id": "4O5MJP_OTB7X",
        "colab_type": "code",
        "colab": {
          "base_uri": "https://localhost:8080/",
          "height": 85
        },
        "outputId": "9aaf28ec-01dc-4b30-9fdf-7c227a1b70cb"
      },
      "source": [
        "from numpy import array\n",
        "from numpy import mean\n",
        "from numpy import cov\n",
        "from numpy.linalg import eig\n",
        "A = array([[1, 1], [2, 1], [2, 2],[3,2]])\n",
        "print(A)\n"
      ],
      "execution_count": 3,
      "outputs": [
        {
          "output_type": "stream",
          "text": [
            "[[1 1]\n",
            " [2 1]\n",
            " [2 2]\n",
            " [3 2]]\n"
          ],
          "name": "stdout"
        }
      ]
    },
    {
      "cell_type": "code",
      "metadata": {
        "id": "laQaOYUCWw3p",
        "colab_type": "code",
        "colab": {
          "base_uri": "https://localhost:8080/",
          "height": 34
        },
        "outputId": "d7fa84fe-d621-4815-d84e-fec8e436d4bc"
      },
      "source": [
        "# calculate the mean of each column\n",
        "M = mean(A.T, axis=1)\n",
        "print(M)\n"
      ],
      "execution_count": 4,
      "outputs": [
        {
          "output_type": "stream",
          "text": [
            "[2.  1.5]\n"
          ],
          "name": "stdout"
        }
      ]
    },
    {
      "cell_type": "code",
      "metadata": {
        "id": "D6xHeFdGXIIA",
        "colab_type": "code",
        "colab": {
          "base_uri": "https://localhost:8080/",
          "height": 85
        },
        "outputId": "632ac59b-81d1-4295-e885-71e5d1e4ea97"
      },
      "source": [
        "# center columns by subtracting column means\n",
        "C = A - M\n",
        "print(C)\n"
      ],
      "execution_count": 5,
      "outputs": [
        {
          "output_type": "stream",
          "text": [
            "[[-1.  -0.5]\n",
            " [ 0.  -0.5]\n",
            " [ 0.   0.5]\n",
            " [ 1.   0.5]]\n"
          ],
          "name": "stdout"
        }
      ]
    },
    {
      "cell_type": "code",
      "metadata": {
        "id": "Vd57K6SPXMbA",
        "colab_type": "code",
        "colab": {
          "base_uri": "https://localhost:8080/",
          "height": 51
        },
        "outputId": "b9cdda9f-3290-4a22-c103-66ab2dbc860f"
      },
      "source": [
        "# calculate covariance matrix of centered matrix\n",
        "V = cov(C.T)\n",
        "print(V)\n"
      ],
      "execution_count": 6,
      "outputs": [
        {
          "output_type": "stream",
          "text": [
            "[[0.66666667 0.33333333]\n",
            " [0.33333333 0.33333333]]\n"
          ],
          "name": "stdout"
        }
      ]
    },
    {
      "cell_type": "code",
      "metadata": {
        "id": "j5PX-EELXOhY",
        "colab_type": "code",
        "colab": {
          "base_uri": "https://localhost:8080/",
          "height": 51
        },
        "outputId": "192e4581-add1-48b8-b28d-8586dd1a6672"
      },
      "source": [
        "# eigendecomposition of covariance matrix\n",
        "values, vectors = eig(V)\n",
        "print(vectors)\n"
      ],
      "execution_count": 7,
      "outputs": [
        {
          "output_type": "stream",
          "text": [
            "[[ 0.85065081 -0.52573111]\n",
            " [ 0.52573111  0.85065081]]\n"
          ],
          "name": "stdout"
        }
      ]
    },
    {
      "cell_type": "code",
      "metadata": {
        "id": "J8JY1cpmXP-4",
        "colab_type": "code",
        "colab": {
          "base_uri": "https://localhost:8080/",
          "height": 34
        },
        "outputId": "20a8628f-f7a9-40d8-9797-9714154f348e"
      },
      "source": [
        "print(values)\n"
      ],
      "execution_count": 8,
      "outputs": [
        {
          "output_type": "stream",
          "text": [
            "[0.872678 0.127322]\n"
          ],
          "name": "stdout"
        }
      ]
    },
    {
      "cell_type": "code",
      "metadata": {
        "id": "EW58AOrtXSXg",
        "colab_type": "code",
        "colab": {
          "base_uri": "https://localhost:8080/",
          "height": 85
        },
        "outputId": "3d35bca3-46ea-4c25-ff36-820cfecc60b0"
      },
      "source": [
        "# project data\n",
        "P = vectors.T.dot(C.T)\n",
        "print(P.T)"
      ],
      "execution_count": 9,
      "outputs": [
        {
          "output_type": "stream",
          "text": [
            "[[-1.11351636  0.10040571]\n",
            " [-0.26286556 -0.4253254 ]\n",
            " [ 0.26286556  0.4253254 ]\n",
            " [ 1.11351636 -0.10040571]]\n"
          ],
          "name": "stdout"
        }
      ]
    },
    {
      "cell_type": "code",
      "metadata": {
        "id": "cGvN0RjpZhbS",
        "colab_type": "code",
        "colab": {
          "base_uri": "https://localhost:8080/",
          "height": 295
        },
        "outputId": "d72b5435-6d06-4386-ba44-2cf98e9d9603"
      },
      "source": [
        "from pandas.plotting import scatter_matrix\n",
        "import matplotlib.pyplot as plt\n",
        "x_number_list = [1,2,2,3]\n",
        "# y axis value list.\n",
        "y_number_list = [1,1,2,2]\n",
        "# Draw point based on above x, y axis values.\n",
        "plt.scatter(x_number_list, y_number_list, s=10)\n",
        "# Set chart title.\n",
        "plt.title(\"Scatter plot\")\n",
        "\n",
        "# Set x, y label text.\n",
        "plt.xlabel(\"X\")\n",
        "plt.ylabel(\"Y\")\n",
        "plt.show()"
      ],
      "execution_count": 17,
      "outputs": [
        {
          "output_type": "display_data",
          "data": {
            "image/png": "[encoded data removed]",
            "text/plain": [
              "<Figure size 432x288 with 1 Axes>"
            ]
          },
          "metadata": {
            "tags": []
          }
        }
      ]
    },
    {
      "cell_type": "code",
      "metadata": {
        "id": "XjtG1o0UdCJB",
        "colab_type": "code",
        "colab": {
          "base_uri": "https://localhost:8080/",
          "height": 295
        },
        "outputId": "beec553a-14df-40ca-f1af-3e13c6012ec9"
      },
      "source": [
        "x_number_list = [-1.11351636,-0.26286556,0.26286556,1.11351636]\n",
        "# y axis value list.\n",
        "y_number_list = [ 0.10040571,-0.4253254,0.4253254,-0.10040571]\n",
        "# Draw point based on above x, y axis values.\n",
        "plt.scatter(x_number_list, y_number_list, s=10)\n",
        "# Set chart title.\n",
        "plt.title(\"Scatter plot\")\n",
        "\n",
        "# Set x, y label text.\n",
        "plt.xlabel(\"X\")\n",
        "plt.ylabel(\"Y\")\n",
        "plt.show()"
      ],
      "execution_count": 18,
      "outputs": [
        {
          "output_type": "display_data",
          "data": {
            "image/png": "[encoded data removed]",
            "text/plain": [
              "<Figure size 432x288 with 1 Axes>"
            ]
          },
          "metadata": {
            "tags": []
          }
        }
      ]
    }
  ]
}